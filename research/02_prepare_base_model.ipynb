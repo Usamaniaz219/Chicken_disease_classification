{
 "cells": [
  {
   "cell_type": "code",
   "execution_count": 1,
   "metadata": {},
   "outputs": [],
   "source": [
    "import os"
   ]
  },
  {
   "cell_type": "code",
   "execution_count": 2,
   "metadata": {},
   "outputs": [
    {
     "data": {
      "text/plain": [
       "'c:\\\\Users\\\\VAIO\\\\OneDrive\\\\Desktop\\\\Chiken_disease_classification_project\\\\Chiken_disease_classification\\\\research'"
      ]
     },
     "execution_count": 2,
     "metadata": {},
     "output_type": "execute_result"
    }
   ],
   "source": [
    "%pwd"
   ]
  },
  {
   "cell_type": "code",
   "execution_count": 3,
   "metadata": {},
   "outputs": [
    {
     "name": "stdout",
     "output_type": "stream",
     "text": [
      "c:\\Users\\VAIO\\OneDrive\\Desktop\\Chiken_disease_classification_project\\Chiken_disease_classification\n"
     ]
    }
   ],
   "source": [
    "%cd .."
   ]
  },
  {
   "cell_type": "code",
   "execution_count": 4,
   "metadata": {},
   "outputs": [
    {
     "name": "stdout",
     "output_type": "stream",
     "text": [
      " Volume in drive C has no label.\n",
      " Volume Serial Number is E0B8-81FC\n",
      "\n",
      " Directory of c:\\Users\\VAIO\\OneDrive\\Desktop\\Chiken_disease_classification_project\\Chiken_disease_classification\n",
      "\n",
      "03/17/2025  11:10 AM    <DIR>          .\n",
      "03/17/2025  11:10 AM    <DIR>          ..\n",
      "03/10/2025  08:38 AM    <DIR>          .github\n",
      "03/17/2025  11:13 AM             3,599 .gitignore\n",
      "03/17/2025  11:11 AM    <DIR>          artifacts\n",
      "03/13/2025  10:38 AM    <DIR>          config\n",
      "03/10/2025  09:50 AM                 0 dvc.yaml\n",
      "03/13/2025  09:03 AM    <DIR>          logs\n",
      "03/17/2025  11:11 AM               459 main.py\n",
      "03/17/2025  11:32 AM               160 params.yaml\n",
      "03/13/2025  10:38 AM               276 README.md\n",
      "03/12/2025  09:10 AM               154 requirements.txt\n",
      "03/17/2025  11:17 AM    <DIR>          research\n",
      "03/18/2025  10:10 AM               824 setup.py\n",
      "03/10/2025  08:38 AM    <DIR>          src\n",
      "03/10/2025  09:50 AM             1,325 template.py\n",
      "03/10/2025  09:51 AM    <DIR>          templates\n",
      "               8 File(s)          6,797 bytes\n",
      "               9 Dir(s)   5,069,148,160 bytes free\n"
     ]
    }
   ],
   "source": [
    "%ls"
   ]
  },
  {
   "cell_type": "code",
   "execution_count": 26,
   "metadata": {},
   "outputs": [],
   "source": [
    "from dataclasses import dataclass\n",
    "from pathlib import Path\n",
    "\n",
    "@dataclass(frozen=True)\n",
    "class PrepareBaseModelConfig:\n",
    "    root_dir: Path\n",
    "    base_model_path:Path\n",
    "    updated_base_model_path: Path\n",
    "    params_image_size:list\n",
    "    params_learning_rate:float\n",
    "    params_include_top:bool\n",
    "    params_weights:str\n",
    "    params_classes:int\n",
    "    "
   ]
  },
  {
   "cell_type": "code",
   "execution_count": 27,
   "metadata": {},
   "outputs": [],
   "source": [
    "from src.cnnClassifier.constants import *\n",
    "from src.cnnClassifier.utils.common import read_yaml,create_directories"
   ]
  },
  {
   "cell_type": "code",
   "execution_count": null,
   "metadata": {},
   "outputs": [
    {
     "ename": "SyntaxError",
     "evalue": "invalid syntax. Perhaps you forgot a comma? (2771220601.py, line 16)",
     "output_type": "error",
     "traceback": [
      "  \u001b[36mCell\u001b[39m\u001b[36m \u001b[39m\u001b[32mIn[34]\u001b[39m\u001b[32m, line 16\u001b[39m\n\u001b[31m    \u001b[39m\u001b[31mupdated_base_model_path=Path(config.updated_base_model_path)\u001b[39m\n                            ^\n\u001b[31mSyntaxError\u001b[39m\u001b[31m:\u001b[39m invalid syntax. Perhaps you forgot a comma?\n"
     ]
    }
   ],
   "source": [
    "class ConfigurationManager:\n",
    "    def __init__(\n",
    "            self,\n",
    "            config_filepath = CONFIG_FILE_PATH,\n",
    "            params_filepath = PARAMS_FILE_PATH):\n",
    "        self.config = read_yaml(config_filepath)\n",
    "        self.params = read_yaml(params_filepath)\n",
    "        create_directories([self.config.artifacts_root])\n",
    "\n",
    "    def get_prepare_base_model_config(self):\n",
    "        config = self.config.prepare_base_model\n",
    "        create_directories([config.root_dir])\n",
    "        prepare_base_model_config = PrepareBaseModelConfig(\n",
    "            root_dir=Path(config.root_dir),\n",
    "            base_model_path=Path(config.base_model_path),\n",
    "            updated_base_model_path=Path(config.updated_base_model_path),\n",
    "            params_image_size=self.params.IMAGE_SIZE,\n",
    "            params_learning_rate=self.params.LEARNING_RATE,\n",
    "            params_include_top=self.params.INCLUDE_TOP,\n",
    "            params_weights=self.params.WEIGHTS,\n",
    "            params_classes=self.params.CLASSES\n",
    "        )\n",
    "        return prepare_base_model_config\n",
    "\n",
    "        "
   ]
  },
  {
   "cell_type": "code",
   "execution_count": 29,
   "metadata": {},
   "outputs": [],
   "source": [
    "import os\n",
    "import urllib.request as request\n",
    "from zipfile import ZipFile\n",
    "# import tensorflow as tf\n",
    "\n"
   ]
  },
  {
   "cell_type": "code",
   "execution_count": 30,
   "metadata": {},
   "outputs": [],
   "source": [
    "# class PrepareBaseModel:\n",
    "#     def __init__(self,config:PrepareBaseModelConfig):\n",
    "#         self.config = config\n",
    "    \n",
    "#     def get_base_model(self):\n",
    "#         self.model = tf.keras.applications.vgg16.VGG16(\n",
    "#             input_shape = self.config.params_weights,\n",
    "#             include_top = self.config.params_include_top\n",
    "#         )\n",
    "#         self.save_model(path=self.config.base_model_path,model=self.model)\n",
    "    \n",
    "#     @staticmethod\n",
    "#     def _prepare_full_model(model,classes,freeze_all,freeze_till,learning_rate):\n",
    "#         if freeze_all:\n",
    "#             for layer in model.layers:\n",
    "#                 model.trainable = False\n",
    "#         elif (freeze_till is not None) and (freeze_till>0):\n",
    "#             for layer in model.layers[:freeze_till]:\n",
    "#                 model.trainable = False\n",
    "            \n",
    "#         flatten_in = tf.keras.layers.Flatten()(model.output)\n",
    "#         prediction = tf.keras.layers.Dense(\n",
    "#             units=classes,\n",
    "#             activation = \"softmax\"\n",
    "#         )(flatten_in)\n",
    "#         full_model = tf.keras.models.Model(\n",
    "#             input = model.input,\n",
    "#             outputs = prediction\n",
    "#         )\n",
    "#         full_model.compile(\n",
    "#             optimizer = tf.keras.optimizer.SGD(learning_rate=learning_rate),\n",
    "#             loss = tf.keras.losses.CategoricalCrossentropy(),\n",
    "#             metrics = [\"accuracy\"]\n",
    "#         )\n",
    "#         full_model.summary()\n",
    "#         return full_model\n",
    "        \n",
    "#     def update_base_model(self):\n",
    "#         self.full_model = self._prepare_full_model(\n",
    "#             model = self.model,\n",
    "#             classes=self.config.params_classes,\n",
    "#             freeze_all=True,\n",
    "#             freeze_till=None,\n",
    "#             learning_rate=self.config.params_learning_rate\n",
    "#         )\n",
    "#         self.save_model(path=self.config.updated_base_model_path,model=self.full_model)\n",
    "    \n",
    "#     @staticmethod\n",
    "#     def save_model(path:Path,model:tf.keras.Model):\n",
    "#         model.save(path)"
   ]
  },
  {
   "cell_type": "code",
   "execution_count": 31,
   "metadata": {},
   "outputs": [],
   "source": [
    "# The above code using pytorch\n",
    "import torch\n",
    "import torch.nn as nn\n",
    "import torchvision.models as models \n",
    "from pathlib import Path"
   ]
  },
  {
   "cell_type": "code",
   "execution_count": 32,
   "metadata": {},
   "outputs": [],
   "source": [
    " \n",
    "\n",
    "class PrepareBaseModel:\n",
    "    def __init__(self,config:PrepareBaseModelConfig):\n",
    "        self.config = config\n",
    "    \n",
    "    def get_base_model(self):\n",
    "        self.model = models.vgg16(pretrained=True if self.config.params_weights==\"imagenet\" else False)\n",
    "        if not self.config.params_include_top:\n",
    "            self.model = nn.Sequential(*list(self.model.children())[:-1])\n",
    "        self.save_model(path=self.config.base_model_path,model=self.model)\n",
    "    \n",
    "    @staticmethod\n",
    "    def _prepare_full_model(model,classes,learning_rate):\n",
    "        # Freeze all parameters\n",
    "        for param in model.parameters():\n",
    "            param.requires_grad = False\n",
    "        num_features = model.classifier[0].in_features\n",
    "        model.classifier = nn.Sequential(\n",
    "            nn.Linear(num_features,classes),\n",
    "            nn.Softmax(dim=1)\n",
    "        )\n",
    "        optimizer = torch.optim.SGD(model.parameters,lr=learning_rate)\n",
    "        criterion = nn.CrossEntropyLoss()\n",
    "        return model , optimizer,criterion\n",
    "    \n",
    "    def update_base_model(self):\n",
    "        self.Full_model,optimizer,criterion = self._prepare_full_model(model=self.model,\n",
    "                                                                       classes=self.config.params_classes,learning_rate=self.config.params_learning_rate)\n",
    "        self.save_model(path=self.config.updated_base_model_path,model=self.Full_model)\n",
    "    \n",
    "    @staticmethod\n",
    "    def save_model(path:Path,model):\n",
    "        torch.save(model.state_dict(),path)\n",
    "         \n",
    "    \n"
   ]
  },
  {
   "cell_type": "code",
   "execution_count": 33,
   "metadata": {},
   "outputs": [
    {
     "name": "stdout",
     "output_type": "stream",
     "text": [
      "[2025-03-20 09:21:47,520:INFO:common:yaml file: config\\config.yaml loaded successfully]\n",
      "[2025-03-20 09:21:47,586:INFO:common:yaml file: params.yaml loaded successfully]\n",
      "[2025-03-20 09:21:47,601:INFO:common:created directory at : artifacts]\n",
      "[2025-03-20 09:21:47,615:INFO:common:created directory at : artifacts/prepare_base_model]\n",
      "Unexpected exception formatting exception. Falling back to standard exception\n"
     ]
    },
    {
     "name": "stderr",
     "output_type": "stream",
     "text": [
      "Traceback (most recent call last):\n",
      "  File \"c:\\Users\\VAIO\\OneDrive\\Desktop\\Chiken_disease_classification_project\\chicken_disease_classification_env\\Lib\\site-packages\\IPython\\core\\interactiveshell.py\", line 3549, in run_code\n",
      "    exec(code_obj, self.user_global_ns, self.user_ns)\n",
      "  File \"C:\\Users\\VAIO\\AppData\\Local\\Temp\\ipykernel_13456\\1279191077.py\", line 9, in <module>\n",
      "    raise e\n",
      "  File \"C:\\Users\\VAIO\\AppData\\Local\\Temp\\ipykernel_13456\\1279191077.py\", line 3, in <module>\n",
      "    PrepareBaseModelConfig = config.get_prepare_base_model_config()\n",
      "                             ^^^^^^^^^^^^^^^^^^^^^^^^^^^^^^^^^^^^^^\n",
      "  File \"C:\\Users\\VAIO\\AppData\\Local\\Temp\\ipykernel_13456\\1775423162.py\", line 13, in get_prepare_base_model_config\n",
      "    prepare_base_model_config = PrepareBaseModelConfig(\n",
      "                                ^^^^^^^^^^^^^^^^^^^^^^^\n",
      "TypeError: PrepareBaseModelConfig.__init__() missing 1 required positional argument: 'updated_base_model_path'\n",
      "\n",
      "During handling of the above exception, another exception occurred:\n",
      "\n",
      "Traceback (most recent call last):\n",
      "  File \"c:\\Users\\VAIO\\OneDrive\\Desktop\\Chiken_disease_classification_project\\chicken_disease_classification_env\\Lib\\site-packages\\IPython\\core\\interactiveshell.py\", line 2173, in showtraceback\n",
      "    stb = self.InteractiveTB.structured_traceback(\n",
      "          ^^^^^^^^^^^^^^^^^^^^^^^^^^^^^^^^^^^^^^^^\n",
      "  File \"c:\\Users\\VAIO\\OneDrive\\Desktop\\Chiken_disease_classification_project\\chicken_disease_classification_env\\Lib\\site-packages\\IPython\\core\\ultratb.py\", line 1182, in structured_traceback\n",
      "    return FormattedTB.structured_traceback(\n",
      "           ^^^^^^^^^^^^^^^^^^^^^^^^^^^^^^^^^\n",
      "  File \"c:\\Users\\VAIO\\OneDrive\\Desktop\\Chiken_disease_classification_project\\chicken_disease_classification_env\\Lib\\site-packages\\IPython\\core\\ultratb.py\", line 1053, in structured_traceback\n",
      "    return VerboseTB.structured_traceback(\n",
      "           ^^^^^^^^^^^^^^^^^^^^^^^^^^^^^^^\n",
      "  File \"c:\\Users\\VAIO\\OneDrive\\Desktop\\Chiken_disease_classification_project\\chicken_disease_classification_env\\Lib\\site-packages\\IPython\\core\\ultratb.py\", line 861, in structured_traceback\n",
      "    formatted_exceptions: list[list[str]] = self.format_exception_as_a_whole(\n",
      "                                            ^^^^^^^^^^^^^^^^^^^^^^^^^^^^^^^^^\n",
      "  File \"c:\\Users\\VAIO\\OneDrive\\Desktop\\Chiken_disease_classification_project\\chicken_disease_classification_env\\Lib\\site-packages\\IPython\\core\\ultratb.py\", line 773, in format_exception_as_a_whole\n",
      "    frames.append(self.format_record(record))\n",
      "                  ^^^^^^^^^^^^^^^^^^^^^^^^^^\n",
      "  File \"c:\\Users\\VAIO\\OneDrive\\Desktop\\Chiken_disease_classification_project\\chicken_disease_classification_env\\Lib\\site-packages\\IPython\\core\\ultratb.py\", line 652, in format_record\n",
      "    frame_info.lines,\n",
      "    ^^^^^^^^^^^^^^^^\n",
      "  File \"c:\\Users\\VAIO\\OneDrive\\Desktop\\Chiken_disease_classification_project\\chicken_disease_classification_env\\Lib\\site-packages\\IPython\\core\\tbtools.py\", line 355, in lines\n",
      "    return self._sd.lines  # type: ignore[misc]\n",
      "           ^^^^^^^^^^^^^^\n",
      "  File \"c:\\Users\\VAIO\\OneDrive\\Desktop\\Chiken_disease_classification_project\\chicken_disease_classification_env\\Lib\\site-packages\\stack_data\\utils.py\", line 145, in cached_property_wrapper\n",
      "    value = obj.__dict__[self.func.__name__] = self.func(obj)\n",
      "                                               ^^^^^^^^^^^^^^\n",
      "  File \"c:\\Users\\VAIO\\OneDrive\\Desktop\\Chiken_disease_classification_project\\chicken_disease_classification_env\\Lib\\site-packages\\stack_data\\core.py\", line 734, in lines\n",
      "    pieces = self.included_pieces\n",
      "             ^^^^^^^^^^^^^^^^^^^^\n",
      "  File \"c:\\Users\\VAIO\\OneDrive\\Desktop\\Chiken_disease_classification_project\\chicken_disease_classification_env\\Lib\\site-packages\\stack_data\\utils.py\", line 145, in cached_property_wrapper\n",
      "    value = obj.__dict__[self.func.__name__] = self.func(obj)\n",
      "                                               ^^^^^^^^^^^^^^\n",
      "  File \"c:\\Users\\VAIO\\OneDrive\\Desktop\\Chiken_disease_classification_project\\chicken_disease_classification_env\\Lib\\site-packages\\stack_data\\core.py\", line 677, in included_pieces\n",
      "    scope_pieces = self.scope_pieces\n",
      "                   ^^^^^^^^^^^^^^^^^\n",
      "  File \"c:\\Users\\VAIO\\OneDrive\\Desktop\\Chiken_disease_classification_project\\chicken_disease_classification_env\\Lib\\site-packages\\stack_data\\utils.py\", line 145, in cached_property_wrapper\n",
      "    value = obj.__dict__[self.func.__name__] = self.func(obj)\n",
      "                                               ^^^^^^^^^^^^^^\n",
      "  File \"c:\\Users\\VAIO\\OneDrive\\Desktop\\Chiken_disease_classification_project\\chicken_disease_classification_env\\Lib\\site-packages\\stack_data\\core.py\", line 614, in scope_pieces\n",
      "    scope_start, scope_end = self.source.line_range(self.scope)\n",
      "                             ^^^^^^^^^^^^^^^^^^^^^^^^^^^^^^^^^^\n",
      "  File \"c:\\Users\\VAIO\\OneDrive\\Desktop\\Chiken_disease_classification_project\\chicken_disease_classification_env\\Lib\\site-packages\\stack_data\\core.py\", line 178, in line_range\n",
      "    return line_range(self.asttext(), node)\n",
      "                      ^^^^^^^^^^^^\n",
      "AttributeError: 'Source' object has no attribute 'asttext'\n"
     ]
    }
   ],
   "source": [
    "try:\n",
    "    config = ConfigurationManager()\n",
    "    PrepareBaseModelConfig = config.get_prepare_base_model_config()\n",
    "    prepare_base_model = PrepareBaseModel(config=PrepareBaseModelConfig)\n",
    "    prepare_base_model.get_base_model()\n",
    "    prepare_base_model.update_base_model()\n",
    "\n",
    "except Exception as e:\n",
    "    raise e"
   ]
  },
  {
   "cell_type": "code",
   "execution_count": null,
   "metadata": {},
   "outputs": [],
   "source": []
  }
 ],
 "metadata": {
  "kernelspec": {
   "display_name": "chicken_disease_classification_env",
   "language": "python",
   "name": "python3"
  },
  "language_info": {
   "codemirror_mode": {
    "name": "ipython",
    "version": 3
   },
   "file_extension": ".py",
   "mimetype": "text/x-python",
   "name": "python",
   "nbconvert_exporter": "python",
   "pygments_lexer": "ipython3",
   "version": "3.12.1"
  }
 },
 "nbformat": 4,
 "nbformat_minor": 2
}
